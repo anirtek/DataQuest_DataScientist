{
 "cells": [
  {
   "cell_type": "code",
   "execution_count": 2,
   "metadata": {
    "collapsed": false
   },
   "outputs": [
    {
     "name": "stdout",
     "output_type": "stream",
     "text": [
      "['year,month,date_of_month,day_of_week,births', '1994,1,1,6,8096', '1994,1,2,7,7772', '1994,1,3,1,10142', '1994,1,4,2,11248', '1994,1,5,3,11053', '1994,1,6,4,11406', '1994,1,7,5,11251', '1994,1,8,6,8653', '1994,1,9,7,7910']\n"
     ]
    }
   ],
   "source": [
    "f = open(\"US_births_1994-2003_CDC_NCHS.csv\", \"r\")\n",
    "data = f.read()\n",
    "rows = data.split(\"\\n\")\n",
    "print(rows[:10])"
   ]
  },
  {
   "cell_type": "code",
   "execution_count": 3,
   "metadata": {
    "collapsed": false
   },
   "outputs": [
    {
     "name": "stdout",
     "output_type": "stream",
     "text": [
      "[[1994, 1, 1, 6, 8096], [1994, 1, 2, 7, 7772], [1994, 1, 3, 1, 10142], [1994, 1, 4, 2, 11248], [1994, 1, 5, 3, 11053], [1994, 1, 6, 4, 11406], [1994, 1, 7, 5, 11251], [1994, 1, 8, 6, 8653], [1994, 1, 9, 7, 7910], [1994, 1, 10, 1, 10498]]\n"
     ]
    }
   ],
   "source": [
    "def read_csv(input_file) :\n",
    "    f = open(input_file, \"r\")\n",
    "    data = f.read()\n",
    "    rows = data.split('\\n') # data saved as list of lists\n",
    "    string_list = rows[1:] # removed the header\n",
    "    final_list = [] # final list\n",
    "    for each in string_list :\n",
    "        int_fields = [] # empty list\n",
    "        string_fields = each.split(',') # splitted over ','\n",
    "        for i in string_fields :\n",
    "            int_fields.append(int(i))\n",
    "        final_list.append(int_fields)\n",
    "    return final_list\n",
    "\n",
    "cdc_list = read_csv(\"US_births_1994-2003_CDC_NCHS.csv\")\n",
    "print(cdc_list[:10]) # printing just first 10 lines "
   ]
  },
  {
   "cell_type": "code",
   "execution_count": 4,
   "metadata": {
    "collapsed": false
   },
   "outputs": [
    {
     "name": "stdout",
     "output_type": "stream",
     "text": [
      "{1: 3232517, 2: 3018140, 3: 3322069, 4: 3185314, 5: 3350907, 6: 3296530, 7: 3498783, 8: 3525858, 9: 3439698, 10: 3378814, 11: 3171647, 12: 3301860}\n"
     ]
    }
   ],
   "source": [
    "def month_births(input_list) :\n",
    "    births_per_month = {} # empty dictionary created\n",
    "    for each in input_list :\n",
    "        month = each[1] # extracted the month number\n",
    "        births = each[4] # extracted the births \n",
    "        if month in births_per_month :\n",
    "            births_per_month[month] += int(births)\n",
    "        else :\n",
    "            births_per_month[month] = int(births)\n",
    "    return births_per_month\n",
    "\n",
    "#calling the function above\n",
    "cdc_month_births = month_births(cdc_list)\n",
    "print(cdc_month_births)"
   ]
  },
  {
   "cell_type": "code",
   "execution_count": 5,
   "metadata": {
    "collapsed": false
   },
   "outputs": [
    {
     "name": "stdout",
     "output_type": "stream",
     "text": [
      "{1: 5789166, 2: 6446196, 3: 6322855, 4: 6288429, 5: 6233657, 6: 4562111, 7: 4079723}\n"
     ]
    }
   ],
   "source": [
    "def dow_births(input_list) :\n",
    "    births_per_week = {} # empty dictionary created\n",
    "    for each in input_list :\n",
    "        month = each[3] # extracted the month number\n",
    "        births = each[4] # extracted the births \n",
    "        if month in births_per_week :\n",
    "            births_per_week[month] += int(births)\n",
    "        else :\n",
    "            births_per_week[month] = int(births)\n",
    "    return births_per_week\n",
    "\n",
    "#calling the function above\n",
    "cdc_day_births = dow_births(cdc_list)\n",
    "print(cdc_day_births)"
   ]
  },
  {
   "cell_type": "code",
   "execution_count": 6,
   "metadata": {
    "collapsed": false
   },
   "outputs": [
    {
     "name": "stdout",
     "output_type": "stream",
     "text": [
      "{2000: 4058814, 2001: 4025933, 2002: 4021726, 2003: 4089950, 1994: 3952767, 1995: 3899589, 1996: 3891494, 1997: 3880894, 1998: 3941553, 1999: 3959417}\n",
      "{1: 3232517, 2: 3018140, 3: 3322069, 4: 3185314, 5: 3350907, 6: 3296530, 7: 3498783, 8: 3525858, 9: 3439698, 10: 3378814, 11: 3171647, 12: 3301860}\n",
      "{1: 1276557, 2: 1288739, 3: 1304499, 4: 1288154, 5: 1299953, 6: 1304474, 7: 1310459, 8: 1312297, 9: 1303292, 10: 1320764, 11: 1314361, 12: 1318437, 13: 1277684, 14: 1320153, 15: 1319171, 16: 1315192, 17: 1324953, 18: 1326855, 19: 1318727, 20: 1324821, 21: 1322897, 22: 1317381, 23: 1293290, 24: 1288083, 25: 1272116, 26: 1284796, 27: 1294395, 28: 1307685, 29: 1223161, 30: 1202095, 31: 746696}\n",
      "{1: 5789166, 2: 6446196, 3: 6322855, 4: 6288429, 5: 6233657, 6: 4562111, 7: 4079723}\n"
     ]
    }
   ],
   "source": [
    "# more generalized function\n",
    "def calc_counts(data, column):\n",
    "    number_of_births = {}\n",
    "    for each in data :\n",
    "        #print(each[column])\n",
    "        \n",
    "        if each[column] in number_of_births :\n",
    "            number_of_births[each[column]] += int(each[4])\n",
    "        else :\n",
    "            number_of_births[each[column]] = int(each[4])\n",
    "    return number_of_births\n",
    "\n",
    "#calling the function\n",
    "cdc_year_births = calc_counts(cdc_list, 0)\n",
    "print(cdc_year_births)\n",
    "cdc_month_births = calc_counts(cdc_list, 1)\n",
    "print(cdc_month_births)\n",
    "cdc_dom_births = calc_counts(cdc_list, 2)\n",
    "print(cdc_dom_births)\n",
    "cdc_dow_births = calc_counts(cdc_list, 3)\n",
    "print(cdc_dow_births)"
   ]
  },
  {
   "cell_type": "code",
   "execution_count": 7,
   "metadata": {
    "collapsed": false,
    "scrolled": true
   },
   "outputs": [
    {
     "name": "stdout",
     "output_type": "stream",
     "text": [
      "3880894\n",
      "4089950\n"
     ]
    }
   ],
   "source": [
    "def calc_min(input_dict, key) :\n",
    "    min = input_dict[key]\n",
    "    for each in input_dict :\n",
    "        if min >= input_dict[each] :\n",
    "            min = input_dict[each]\n",
    "    return min\n",
    "\n",
    "def calc_max(input_dict, key) :\n",
    "    max = input_dict[key]\n",
    "    for each in input_dict :\n",
    "        if max <= input_dict[each] :\n",
    "            max = input_dict[each]\n",
    "    return max\n",
    "\n",
    "cdc_year_min = calc_min(cdc_year_births, 1994)\n",
    "print(cdc_year_min)\n",
    "cdc_year_max = calc_max(cdc_year_births, 1994)\n",
    "print(cdc_year_max)"
   ]
  },
  {
   "cell_type": "code",
   "execution_count": null,
   "metadata": {
    "collapsed": true
   },
   "outputs": [],
   "source": []
  }
 ],
 "metadata": {
  "anaconda-cloud": {},
  "kernelspec": {
   "display_name": "Python 3",
   "language": "python",
   "name": "python3"
  },
  "language_info": {
   "codemirror_mode": {
    "name": "ipython",
    "version": 3
   },
   "file_extension": ".py",
   "mimetype": "text/x-python",
   "name": "python",
   "nbconvert_exporter": "python",
   "pygments_lexer": "ipython3",
   "version": "3.4.3"
  }
 },
 "nbformat": 4,
 "nbformat_minor": 1
}
